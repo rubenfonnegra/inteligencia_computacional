{
  "cells": [
    {
      "cell_type": "markdown",
      "metadata": {
        "id": "5XoNEbr9tP27"
      },
      "source": [
        "# **Support Vector Boundary**\n",
        "\n",
        "\n"
      ]
    },
    {
      "cell_type": "markdown",
      "metadata": {
        "id": "R9ZxxQKDveNu"
      },
      "source": [
        "Download the [NYC Building Energy Efficiency](https://www.kaggle.com/datasets/alistairking/nyc-building-energy-efficiency-ratings/data?select=geojson_lookup_rows.csv) dataset [here](https://drive.google.com/file/d/1eSTMHM_l74_AfEPl9xcZtHJxHOwSxP0l/view?usp=sharing) \\\n",
        "```SVC``` documentation [aquí](https://scikit-learn.org/stable/modules/generated/sklearn.svm.SVC.html#sklearn.svm.SVC)"
      ]
    },
    {
      "cell_type": "code",
      "execution_count": 5,
      "metadata": {
        "id": "01C1fQOy_uzI"
      },
      "outputs": [],
      "source": [
        "import numpy as np\n",
        "import pandas as pd\n",
        "\n",
        "import seaborn as sns\n",
        "import matplotlib.pyplot as plt\n",
        "\n",
        "from sklearn.svm import SVC\n",
        "from sklearn.metrics import classification_report, confusion_matrix"
      ]
    },
    {
      "cell_type": "code",
      "execution_count": 3,
      "metadata": {
        "execution": {
          "iopub.execute_input": "2024-03-06T09:51:42.159863Z",
          "iopub.status.busy": "2024-03-06T09:51:42.159463Z",
          "iopub.status.idle": "2024-03-06T09:51:42.165938Z",
          "shell.execute_reply": "2024-03-06T09:51:42.164546Z"
        },
        "id": "f7ef5e1e",
        "papermill": {
          "duration": 0.02134,
          "end_time": "2024-03-06T09:51:42.168322",
          "exception": false,
          "start_time": "2024-03-06T09:51:42.146982",
          "status": "completed"
        },
        "tags": []
      },
      "outputs": [],
      "source": [
        "data = _\n",
        "\n",
        "# Split the data into features (X) and target (y)\n",
        "X = _\n",
        "y = _"
      ]
    },
    {
      "cell_type": "code",
      "execution_count": 7,
      "metadata": {
        "colab": {
          "base_uri": "https://localhost:8080/",
          "height": 80
        },
        "id": "3C_5YQJRCm2V",
        "outputId": "23f9adfd-20ca-4b9f-a46c-7dd0a401f83b"
      },
      "outputs": [],
      "source": [
        "# Instance SVM object\n",
        "svm = SVC(kernel = \"linear\" )\n",
        "\n",
        "# Training\n",
        "svm.fit( _ , _ ) # (num_samples, num_features), (num_samples)"
      ]
    },
    {
      "cell_type": "code",
      "execution_count": 8,
      "metadata": {
        "colab": {
          "base_uri": "https://localhost:8080/"
        },
        "execution": {
          "iopub.execute_input": "2024-03-06T09:51:42.482953Z",
          "iopub.status.busy": "2024-03-06T09:51:42.482559Z",
          "iopub.status.idle": "2024-03-06T09:51:42.506215Z",
          "shell.execute_reply": "2024-03-06T09:51:42.504965Z"
        },
        "id": "5f946b9d",
        "outputId": "817c628a-242e-48d6-f61c-276fc7a18c1a",
        "papermill": {
          "duration": 0.03954,
          "end_time": "2024-03-06T09:51:42.509169",
          "exception": false,
          "start_time": "2024-03-06T09:51:42.469629",
          "status": "completed"
        },
        "tags": []
      },
      "outputs": [],
      "source": [
        "# Model Evaluation\n",
        "y_pred = svm.predict( _ )\n",
        "\n",
        "# Print accuracy\n",
        "_ "
      ]
    },
    {
      "cell_type": "markdown",
      "metadata": {
        "id": "feI7uymnxZnv"
      },
      "source": [
        "## Using the Fruits dataset\n",
        "\n",
        "Download the fruits data [here](https://drive.google.com/file/d/1M8tiAWDZclABJN1Meq9oEHCLJTNyHdpP/view?usp=share_link)"
      ]
    },
    {
      "cell_type": "code",
      "execution_count": null,
      "metadata": {
        "id": "2ErpvBmHUyGv"
      },
      "outputs": [],
      "source": [
        "import numpy as np\n",
        "import matplotlib.pyplot as plt\n",
        "from sklearn import svm\n",
        "from sklearn.datasets import load_iris"
      ]
    },
    {
      "cell_type": "code",
      "execution_count": null,
      "metadata": {
        "id": "MeL1RdzTxeO4"
      },
      "outputs": [],
      "source": [
        "# import some data to play with\n",
        "iris = _\n",
        "X = _   # Pick 2 features\n",
        "Y = _"
      ]
    },
    {
      "cell_type": "code",
      "execution_count": null,
      "metadata": {
        "id": "MRQo_j8TxePF"
      },
      "outputs": [],
      "source": [
        "# Create an instance of SVM and fit the data.\n",
        "clf = _\n",
        "clf.fit( _ , _ )"
      ]
    },
    {
      "cell_type": "code",
      "execution_count": null,
      "metadata": {
        "id": "ZpFQ8U0mvbgB"
      },
      "outputs": [],
      "source": [
        "# Plot decision boundaries\n",
        "_"
      ]
    }
  ],
  "metadata": {
    "colab": {
      "collapsed_sections": [
        "feI7uymnxZnv"
      ],
      "provenance": []
    },
    "kernelspec": {
      "display_name": "Python 3",
      "name": "python3"
    }
  },
  "nbformat": 4,
  "nbformat_minor": 0
}
