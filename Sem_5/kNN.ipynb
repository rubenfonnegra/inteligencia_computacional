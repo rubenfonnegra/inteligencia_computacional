{
  "cells": [
    {
      "cell_type": "markdown",
      "metadata": {
        "id": "feI7uymnxZnv"
      },
      "source": [
        "# **$k$ Nearest Neighbors**\n",
        "\n"
      ]
    },
    {
      "cell_type": "markdown",
      "metadata": {
        "id": "edL0-1Z5pHpD"
      },
      "source": [
        "Download the [NYC Building Energy Efficiency](https://www.kaggle.com/datasets/alistairking/nyc-building-energy-efficiency-ratings/data?select=geojson_lookup_rows.csv) dataset [here](https://drive.google.com/file/d/1eSTMHM_l74_AfEPl9xcZtHJxHOwSxP0l/view?usp=sharing) \\\n",
        "```k-NN``` documentation [here](https://scikit-learn.org/stable/modules/generated/sklearn.neighbors.KNeighborsClassifier.html#sklearn.neighbors.KNeighborsClassifier)"
      ]
    },
    {
      "cell_type": "code",
      "execution_count": 3,
      "metadata": {
        "id": "01C1fQOy_uzI"
      },
      "outputs": [],
      "source": [
        "import numpy as np\n",
        "import pandas as pd\n",
        "\n",
        "import seaborn as sns\n",
        "import matplotlib.pyplot as plt\n",
        "\n",
        "from sklearn.neighbors import KNeighborsClassifier as kNN\n",
        "from sklearn.metrics import classification_report, confusion_matrix"
      ]
    },
    {
      "cell_type": "code",
      "execution_count": 4,
      "metadata": {
        "execution": {
          "iopub.execute_input": "2024-03-06T09:51:42.159863Z",
          "iopub.status.busy": "2024-03-06T09:51:42.159463Z",
          "iopub.status.idle": "2024-03-06T09:51:42.165938Z",
          "shell.execute_reply": "2024-03-06T09:51:42.164546Z"
        },
        "id": "f7ef5e1e",
        "papermill": {
          "duration": 0.02134,
          "end_time": "2024-03-06T09:51:42.168322",
          "exception": false,
          "start_time": "2024-03-06T09:51:42.146982",
          "status": "completed"
        },
        "tags": []
      },
      "outputs": [],
      "source": [
        "data = _\n",
        "\n",
        "# Split the data into features (X) and target (y)\n",
        "X = _\n",
        "y = _"
      ]
    },
    {
      "cell_type": "code",
      "execution_count": 7,
      "metadata": {
        "colab": {
          "base_uri": "https://localhost:8080/",
          "height": 80
        },
        "id": "3C_5YQJRCm2V",
        "outputId": "e8082086-13c4-4656-969a-b02a60227e8f"
      },
      "outputs": [],
      "source": [
        "# Instance kNN object\n",
        "n_neighbors = _\n",
        "knn = kNN(n_neighbors = _ , metric = \"euclidean\")\n",
        "\n",
        "# Training\n",
        "knn.fit( _ , _ ) # (num_samples, num_features), (num_samples)"
      ]
    },
    {
      "cell_type": "code",
      "execution_count": 8,
      "metadata": {
        "colab": {
          "base_uri": "https://localhost:8080/"
        },
        "execution": {
          "iopub.execute_input": "2024-03-06T09:51:42.482953Z",
          "iopub.status.busy": "2024-03-06T09:51:42.482559Z",
          "iopub.status.idle": "2024-03-06T09:51:42.506215Z",
          "shell.execute_reply": "2024-03-06T09:51:42.504965Z"
        },
        "id": "5f946b9d",
        "outputId": "9b64da1f-d3a2-44f4-a0b2-ca218131a8e0",
        "papermill": {
          "duration": 0.03954,
          "end_time": "2024-03-06T09:51:42.509169",
          "exception": false,
          "start_time": "2024-03-06T09:51:42.469629",
          "status": "completed"
        },
        "tags": []
      },
      "outputs": [],
      "source": [
        "# Model Evaluation\n",
        "y_pred = knn.predict( _ )\n",
        "\n",
        "# Print accuracy\n",
        "_ "
      ]
    },
    {
      "cell_type": "markdown",
      "metadata": {
        "id": "5m5ItLAL2F2v"
      },
      "source": [
        "## Using the Fruits dataset\n",
        "\n",
        "Download the fruits data [here](https://drive.google.com/file/d/1M8tiAWDZclABJN1Meq9oEHCLJTNyHdpP/view?usp=share_link)"
      ]
    },
    {
      "cell_type": "code",
      "execution_count": null,
      "metadata": {
        "id": "s7MZjWx32HKO"
      },
      "outputs": [],
      "source": [
        "import numpy as np\n",
        "import pandas as pd\n",
        "import matplotlib.pyplot as plt\n",
        "from sklearn.neighbors import KNeighborsClassifier as kNN\n",
        "from sklearn.datasets import load_iris # Iris dataset"
      ]
    },
    {
      "cell_type": "code",
      "execution_count": null,
      "metadata": {
        "id": "5Y4RUDCf4Nzz"
      },
      "outputs": [],
      "source": [
        "fruit_data = _ # Load the fruits dataset\n",
        "fruits_x = _  # Features. We'll pick 2\n",
        "fruits_y = _  # Labels\n",
        "\n",
        "# Convert everything to a np array\n",
        "fruits_x, fruits_y = np.asarray(fruits_x), np.asarray(fruits_y)\n",
        "\n",
        "# Print shapes\n",
        "print ( _ )"
      ]
    },
    {
      "cell_type": "code",
      "execution_count": null,
      "metadata": {
        "colab": {
          "base_uri": "https://localhost:8080/"
        },
        "id": "OfzFvyji4Nz0",
        "outputId": "63e3abaa-6772-4fab-8d4e-db1f97325ded"
      },
      "outputs": [
        {
          "data": {
            "text/plain": [
              "KNeighborsClassifier(n_neighbors=3)"
            ]
          },
          "execution_count": 14,
          "metadata": {},
          "output_type": "execute_result"
        }
      ],
      "source": [
        "# Instance kNN object\n",
        "n_neighbors = _\n",
        "knn = kNN(n_neighbors = _ )\n",
        "\n",
        "# Training\n",
        " _ #(num_samples, Features)"
      ]
    },
    {
      "cell_type": "code",
      "execution_count": null,
      "metadata": {
        "id": "zMaZpg6a4Nz0"
      },
      "outputs": [],
      "source": [
        "## Plot decision boundaries\n",
        "_"
      ]
    }
  ],
  "metadata": {
    "colab": {
      "collapsed_sections": [
        "feI7uymnxZnv",
        "5m5ItLAL2F2v"
      ],
      "provenance": []
    },
    "kernelspec": {
      "display_name": "Python 3",
      "name": "python3"
    }
  },
  "nbformat": 4,
  "nbformat_minor": 0
}
