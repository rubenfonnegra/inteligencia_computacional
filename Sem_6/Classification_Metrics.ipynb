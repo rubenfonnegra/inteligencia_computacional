{
 "cells": [
  {
   "cell_type": "markdown",
   "metadata": {
    "id": "DOBF0YuAWy1H"
   },
   "source": [
    "# Clasification"
   ]
  },
  {
   "cell_type": "markdown",
   "metadata": {},
   "source": [
    "Download the [NYC Building Energy Efficiency](https://www.kaggle.com/datasets/alistairking/nyc-building-energy-efficiency-ratings/data?select=geojson_lookup_rows.csv) dataset [here](https://drive.google.com/file/d/1eSTMHM_l74_AfEPl9xcZtHJxHOwSxP0l/view?usp=sharing) \\"
   ]
  },
  {
   "cell_type": "code",
   "execution_count": null,
   "metadata": {
    "id": "g_UFuHuHj3D2"
   },
   "outputs": [],
   "source": [
    "# import useful libraries\n",
    "import numpy as np\n",
    "import pandas as pd\n",
    "import matplotlib.pyplot as plt\n",
    "\n",
    "# import classifiers\n",
    "from sklearn.svm import SVC\n",
    "from sklearn.linear_model import LogisticRegression\n",
    "from sklearn.neighbors import KNeighborsClassifier as kNN\n",
    "\n",
    "# Import validation\n",
    "from sklearn.model_selection import train_test_split"
   ]
  },
  {
   "cell_type": "code",
   "execution_count": null,
   "metadata": {
    "id": "ZF0TohyIdVRl"
   },
   "outputs": [],
   "source": [
    "data = _\n",
    "\n",
    "# Split the data into features (X) and target (y)\n",
    "X = _\n",
    "y = _\n",
    "\n",
    "# Plot train / test data\n",
    "_"
   ]
  },
  {
   "cell_type": "code",
   "execution_count": null,
   "metadata": {
    "id": "eJovu6tammD9"
   },
   "outputs": [],
   "source": [
    "models = [ _ , _ , _ ]\n",
    "names  = [ _ , _ , _ ]\n",
    "\n",
    "_, axes = plt.subplots(1,3, figsize = (20,5))\n",
    "preds = {} \n",
    "\n",
    "# fit the models\n",
    "for _ in _ :\n",
    "    #\n",
    "    clf = _\n",
    "    clf.fit( _ , _ )\n",
    "    \n",
    "    # Plot everything\n",
    "    # Min-Max values for the grid of decision boundaries\n",
    "    h_min, h_max = _ , _ \n",
    "    v_min, v_max = _ , _ \n",
    "\n",
    "    # Create grid\n",
    "    h_grid, v_grid = np.meshgrid( _ , _ )\n",
    "\n",
    "    # Estimate predictions over the grid\n",
    "    predictions = clf.predict(np.c_[h_min.ravel(), v_grid.ravel()])\n",
    "    predictions = _\n",
    "\n",
    "    # Draw grid\n",
    "    _, ax = plt.subplots (figsize=(8,5))\n",
    "    ax.pcolormesh( _ , _ , _ , cmap = \"Paired\")\n",
    "\n",
    "    # Scatter real values\n",
    "    ax.scatter ( _ , _ , c = _ , edgecolors = 'k', cmap = \"Paired\")\n",
    "\n",
    "plt.show()"
   ]
  },
  {
   "cell_type": "markdown",
   "metadata": {
    "id": "HqPv5A68j27e"
   },
   "source": [
    "## Metricas de desempeño\n",
    "\n",
    "Módulo de [Metrics](https://scikit-learn.org/stable/modules/classes.html#module-sklearn.metrics) de sklearn"
   ]
  },
  {
   "cell_type": "code",
   "execution_count": null,
   "metadata": {
    "id": "d5mLS-Gdj5QY"
   },
   "outputs": [],
   "source": [
    "from sklearn.metrics import confusion_matrix, accuracy_score, precision_score, recall_score, f1_score\n",
    "import seaborn as sns"
   ]
  },
  {
   "cell_type": "code",
   "execution_count": null,
   "metadata": {
    "id": "YihL1RQFoGh0"
   },
   "outputs": [],
   "source": [
    "_, axes = plt.subplots(1, _ , figsize = (21,4))\n",
    "\n",
    "# Compute metrics - plot confusion matrix\n",
    "for _ in _ :\n",
    "  print (\"----- Results for {0} -----\".format( _ ).center(50, '-'))\n",
    "  accuracy = accuracy_score( _ , _ )\n",
    "  precision = precision_score( _ , _ , average = \"micro\")\n",
    "  recall = recall_score( _ , _ , average = \"micro\")\n",
    "  f1 = f1_score( _ , _ , average = \"micro\")\n",
    "  cm = confusion_matrix( _ , _ )\n",
    "  ##--------------\n",
    "  print(\"-- Acc --\\t -- Prec --\\t -- Rec --\\t -- F1 --  \")\n",
    "  print(\"  {0:.3f}  \\t   {1:.3f}  \\t   {2:.3f}  \\t   {3:.3f}  \\t\".format(accuracy, precision, recall, f1))\n",
    "  sns.heatmap(cm, cmap = \"hot\", annot = True, ax = _ )\n",
    "  axes[i].set_title( _ )"
   ]
  }
 ],
 "metadata": {
  "colab": {
   "authorship_tag": "ABX9TyNNUCisxvFBYJJotvrOSHUN",
   "collapsed_sections": [
    "DOBF0YuAWy1H",
    "HqPv5A68j27e",
    "E0q__urRvm2X",
    "d47t41SB5g8u"
   ],
   "provenance": []
  },
  "kernelspec": {
   "display_name": "Python 3",
   "name": "python3"
  },
  "language_info": {
   "name": "python"
  }
 },
 "nbformat": 4,
 "nbformat_minor": 0
}
