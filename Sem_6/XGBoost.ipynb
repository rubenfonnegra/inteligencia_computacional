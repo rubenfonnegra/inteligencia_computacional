{
  "cells": [
    {
      "cell_type": "markdown",
      "metadata": {
        "id": "feI7uymnxZnv"
      },
      "source": [
        "# **XGBoost**\n",
        "\n"
      ]
    },
    {
      "cell_type": "markdown",
      "metadata": {
        "id": "edL0-1Z5pHpD"
      },
      "source": [
        "Download the [NYC Building Energy Efficiency](https://www.kaggle.com/datasets/alistairking/nyc-building-energy-efficiency-ratings/data?select=geojson_lookup_rows.csv) dataset [here](https://drive.google.com/file/d/1eSTMHM_l74_AfEPl9xcZtHJxHOwSxP0l/view?usp=sharing) \\\n",
        "```XGBoost``` documentation [here](https://xgboost.readthedocs.io/en/stable/python/python_intro.html)"
      ]
    },
    {
      "cell_type": "code",
      "execution_count": null,
      "metadata": {
        "id": "01C1fQOy_uzI"
      },
      "outputs": [],
      "source": [
        "import numpy as np\n",
        "import pandas as pd\n",
        "\n",
        "import seaborn as sns\n",
        "import matplotlib.pyplot as plt\n",
        "\n",
        "from sklearn.preprocessing import LabelEncoder\n",
        "from sklearn.metrics import accuracy_score\n",
        "\n",
        "from xgboost import XGBClassifier"
      ]
    },
    {
      "cell_type": "code",
      "execution_count": null,
      "metadata": {
        "execution": {
          "iopub.execute_input": "2024-03-06T09:51:42.159863Z",
          "iopub.status.busy": "2024-03-06T09:51:42.159463Z",
          "iopub.status.idle": "2024-03-06T09:51:42.165938Z",
          "shell.execute_reply": "2024-03-06T09:51:42.164546Z"
        },
        "id": "f7ef5e1e",
        "papermill": {
          "duration": 0.02134,
          "end_time": "2024-03-06T09:51:42.168322",
          "exception": false,
          "start_time": "2024-03-06T09:51:42.146982",
          "status": "completed"
        },
        "tags": []
      },
      "outputs": [],
      "source": [
        "data = _ \n",
        "\n",
        "# Split the data into features (X) and target (y)\n",
        "X = data[['DOF_Gross_Square_Footage_x', 'Energy_Star_1-100_Score_x']]\n",
        "y = data['Energy_Efficiency_Grade_x']"
      ]
    },
    {
      "cell_type": "code",
      "execution_count": null,
      "metadata": {},
      "outputs": [],
      "source": [
        "# Encode labels\n",
        "y = LabelEncoder().fit_transform(y) "
      ]
    },
    {
      "cell_type": "code",
      "execution_count": null,
      "metadata": {
        "id": "RkUJ1L13m2qp"
      },
      "outputs": [],
      "source": [
        "# Create an scatterplot \n"
      ]
    },
    {
      "cell_type": "code",
      "execution_count": null,
      "metadata": {
        "colab": {
          "base_uri": "https://localhost:8080/",
          "height": 466
        },
        "id": "ferVh4d7mhPE",
        "outputId": "ac8c12b5-da97-49ea-c4fb-c71a8a5d460a"
      },
      "outputs": [],
      "source": [
        "# Create a multiple scatterplot on the variables\n"
      ]
    },
    {
      "cell_type": "code",
      "execution_count": null,
      "metadata": {
        "colab": {
          "base_uri": "https://localhost:8080/",
          "height": 80
        },
        "id": "3C_5YQJRCm2V",
        "outputId": "e8082086-13c4-4656-969a-b02a60227e8f"
      },
      "outputs": [],
      "source": [
        "# Modelo XGBoost\n",
        "xgb = XGBClassifier(\n",
        "    n_estimators = 1000, \n",
        "    learning_rate = 0.05,\n",
        "    max_depth=6,\n",
        "    random_state=42\n",
        ")\n",
        "\n",
        "# Training\n",
        "xgb.fit( _ , _ )\n"
      ]
    },
    {
      "cell_type": "code",
      "execution_count": null,
      "metadata": {
        "colab": {
          "base_uri": "https://localhost:8080/"
        },
        "execution": {
          "iopub.execute_input": "2024-03-06T09:51:42.482953Z",
          "iopub.status.busy": "2024-03-06T09:51:42.482559Z",
          "iopub.status.idle": "2024-03-06T09:51:42.506215Z",
          "shell.execute_reply": "2024-03-06T09:51:42.504965Z"
        },
        "id": "5f946b9d",
        "outputId": "9b64da1f-d3a2-44f4-a0b2-ca218131a8e0",
        "papermill": {
          "duration": 0.03954,
          "end_time": "2024-03-06T09:51:42.509169",
          "exception": false,
          "start_time": "2024-03-06T09:51:42.469629",
          "status": "completed"
        },
        "tags": []
      },
      "outputs": [],
      "source": [
        "# Model Evaluation\n",
        "y_pred = xgb.predict( _ )\n",
        "\n",
        "# Print Classification Report\n",
        "print(\"Accuracy:\")\n",
        "print(accuracy_score( _ , _ ))"
      ]
    },
    {
      "cell_type": "markdown",
      "metadata": {
        "id": "5m5ItLAL2F2v"
      },
      "source": [
        "## Using the Fruits dataset\n",
        "\n",
        "Download the fruits data [here](https://drive.google.com/file/d/1M8tiAWDZclABJN1Meq9oEHCLJTNyHdpP/view?usp=share_link)"
      ]
    },
    {
      "cell_type": "code",
      "execution_count": null,
      "metadata": {
        "id": "s7MZjWx32HKO"
      },
      "outputs": [],
      "source": [
        "import numpy as np\n",
        "import pandas as pd\n",
        "import matplotlib.pyplot as plt\n",
        "\n",
        "from xgboost import XGBClassifier"
      ]
    },
    {
      "cell_type": "code",
      "execution_count": null,
      "metadata": {
        "id": "5Y4RUDCf4Nzz"
      },
      "outputs": [],
      "source": [
        "fruit_data = _ # Load the fruits dataset\n",
        "fruits_x = _  # Features. We'll pick 2\n",
        "fruits_y = _  # Labels\n",
        "\n",
        "# Convert everything to a np array\n",
        "fruits_x, fruits_y = np.asarray(fruits_x), np.asarray(fruits_y)\n",
        "\n",
        "# Print shapes\n",
        "print ( _ )"
      ]
    },
    {
      "cell_type": "code",
      "execution_count": null,
      "metadata": {
        "colab": {
          "base_uri": "https://localhost:8080/"
        },
        "id": "OfzFvyji4Nz0",
        "outputId": "63e3abaa-6772-4fab-8d4e-db1f97325ded"
      },
      "outputs": [],
      "source": [
        "# Instance XGBoost object\n",
        "xgb = _\n",
        "\n",
        "# Training\n",
        " _ #(num_samples, Features)"
      ]
    },
    {
      "cell_type": "code",
      "execution_count": null,
      "metadata": {
        "id": "zMaZpg6a4Nz0"
      },
      "outputs": [],
      "source": [
        "## Plot decision boundaries\n",
        "_"
      ]
    }
  ],
  "metadata": {
    "colab": {
      "collapsed_sections": [
        "feI7uymnxZnv",
        "5m5ItLAL2F2v"
      ],
      "provenance": []
    },
    "kernelspec": {
      "display_name": ".venv",
      "language": "python",
      "name": "python3"
    },
    "language_info": {
      "codemirror_mode": {
        "name": "ipython",
        "version": 3
      },
      "file_extension": ".py",
      "mimetype": "text/x-python",
      "name": "python",
      "nbconvert_exporter": "python",
      "pygments_lexer": "ipython3",
      "version": "3.10.12"
    }
  },
  "nbformat": 4,
  "nbformat_minor": 0
}
