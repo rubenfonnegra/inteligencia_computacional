{
 "cells": [
  {
   "cell_type": "markdown",
   "metadata": {
    "id": "E7QcZy7O5Yi5"
   },
   "source": [
    "# **SVM - Kernel comparison**"
   ]
  },
  {
   "cell_type": "markdown",
   "metadata": {
    "id": "SpzR-xplH9kw"
   },
   "source": [
    "## Kernel interpretation"
   ]
  },
  {
   "cell_type": "code",
   "execution_count": 1,
   "metadata": {
    "id": "2DYFVqSPIDWB"
   },
   "outputs": [],
   "source": [
    "import numpy as np \n",
    "import matplotlib.pyplot as plt\n",
    "\n",
    "from PIL import Image\n",
    "from sklearn import svm\n",
    "from sklearn.datasets import make_gaussian_quantiles"
   ]
  },
  {
   "cell_type": "code",
   "execution_count": null,
   "metadata": {
    "id": "yj8-kgrq82FI"
   },
   "outputs": [],
   "source": [
    "X, y = make_gaussian_quantiles(cov=2,\n",
    "                                 n_samples=1000, n_features=2,\n",
    "                                 n_classes=2, random_state=1)\n",
    "\n",
    "X[y==0] = X[y==0] * 0.5\n",
    "\n",
    "_, ax  = plt.subplots(figsize=(6,6))\n",
    "ax.scatter( _ , _ , c = _ , s=10, cmap=\"Paired\")"
   ]
  },
  {
   "cell_type": "code",
   "execution_count": null,
   "metadata": {},
   "outputs": [],
   "source": [
    "Xk = _ \n",
    "X = np.concatenate ([X, Xk.reshape(-1,1)], axis=1)\n",
    "print(X.shape)"
   ]
  },
  {
   "cell_type": "code",
   "execution_count": null,
   "metadata": {},
   "outputs": [],
   "source": [
    "def create_3d_fig(X, y, grid_res=100, view = (90,0)):\n",
    "    # f, _  = plt.subplots(figsize=(6,6))\n",
    "    f = plt.figure(figsize=(6,6))\n",
    "    ax = f.add_subplot(projection=\"3d\")\n",
    "    ax.view_init(view[0], view[1])\n",
    "    ax.scatter3D( X[:, 0] , X[:, 1] , X[:, 2] , c = y , s=10, cmap=\"Paired\")\n",
    "    h_grid, v_grid = np.meshgrid(np.linspace(X[:, 1].min(),X[:, 1].max(),grid_res), np.linspace(X[:, 1].min(),X[:, 1].max(),grid_res))\n",
    "    k_grid = np.ones(h_grid.shape)*1.5\n",
    "    ax.plot_surface( h_grid, v_grid, k_grid, alpha=0.5)\n",
    "    ax.set_zlim(0,5)\n",
    "    ax.set_xlabel(\"h\")\n",
    "    ax.set_ylabel(\"v\")"
   ]
  },
  {
   "cell_type": "code",
   "execution_count": null,
   "metadata": {
    "id": "Mr7g30_KenCq"
   },
   "outputs": [],
   "source": [
    "create_3d_fig(X, y, grid_res=100, view=(90,0))\n",
    "# plt.show()"
   ]
  },
  {
   "cell_type": "code",
   "execution_count": null,
   "metadata": {},
   "outputs": [
    {
     "data": {
      "text/plain": [
       "<Figure size 640x480 with 0 Axes>"
      ]
     },
     "metadata": {},
     "output_type": "display_data"
    }
   ],
   "source": [
    "# Sve all figs\n",
    "import os\n",
    "# Save all figs\n",
    "\n",
    "os.makedirs(\"imgs/\", exist_ok=True)\n",
    "\n",
    "for v in range (0,91,5):\n",
    "     create_3d_fig(X, y, grid_res=100, view=(v,3))\n",
    "     plt.tight_layout()\n",
    "     plt.savefig(\"imgs/{0}.png\".format(v), dpi=50)\n",
    "     plt.close(); plt.clf()\n"
   ]
  },
  {
   "cell_type": "code",
   "execution_count": 28,
   "metadata": {
    "id": "B9Z-xyoJg2Ni"
   },
   "outputs": [],
   "source": [
    "import os\n",
    "from natsort import natsorted, ns\n",
    "from PIL import Image\n",
    "\n",
    "list_images = []\n",
    "p = \"imgs/\"\n",
    "\n",
    "# Save a gif\n",
    "for file_ in natsorted(os.listdir(p), alg=ns.PATH, reverse=True):\n",
    "    image = Image.open(p + file_)\n",
    "    list_images.append(image)\n",
    "\n",
    "image.save(\"imgs/kernel_ill2.gif\", save_all=True, append_images=list_images, duration=200, loop=0)"
   ]
  },
  {
   "cell_type": "markdown",
   "metadata": {
    "id": "Um2ZubAfIA_w"
   },
   "source": [
    "## SVM"
   ]
  },
  {
   "cell_type": "code",
   "execution_count": null,
   "metadata": {
    "id": "yxbe6nohdZcX"
   },
   "outputs": [],
   "source": [
    "import numpy as np \n",
    "import matplotlib.pyplot as plt\n",
    "from sklearn import svm\n",
    "from sklearn.datasets import make_classification"
   ]
  },
  {
   "cell_type": "code",
   "execution_count": null,
   "metadata": {
    "id": "ZF0TohyIdVRl"
   },
   "outputs": [],
   "source": [
    "# we create 100 separable points\n",
    "X, Y = make_classification(n_samples = _ , n_features=2, n_redundant=0, n_informative=2, n_clusters_per_class=2, random_state=2)\n",
    "plt.scatter( _ , _ , c = _ , s = _, cmap=plt.cm.Paired)"
   ]
  },
  {
   "cell_type": "code",
   "execution_count": null,
   "metadata": {
    "id": "_52tN2cddeQ8"
   },
   "outputs": [],
   "source": [
    "\n",
    "kernels = ['linear', 'poly', 'rbf']\n",
    "\n",
    "_, axes = plt.subplots(1,3, figsize = (20,5))\n",
    "\n",
    "# fit the model\n",
    "for _ :\n",
    "    #\n",
    "    clf = svm.SVC(kernel = _ , gamma = 1)\n",
    "    clf.fit( _ , _ )\n",
    "\n",
    "    x_min, x_max = _ , _ \n",
    "    y_min, y_max = _ , _ \n",
    "\n",
    "    x_dim, y_dim = np.meshgrid(np.arange( _ , _ , 0.01), np.arange( _ , _ , 0.01))\n",
    "    predictions = clf.predict(np.c_[x_dim.ravel(), y_dim.ravel()])\n",
    "\n",
    "    predictions = predictions.reshape( _ )\n",
    "    axes[i].pcolormesh( _ , _ , predictions, cmap = plt.cm.Paired) \n",
    "    axes[i].contour( _ , _ , predictions, colors=['k', 'k'], linestyles=['-', '-'], levels=[0, 1])\n",
    "    \n",
    "    axes[i].scatter(clf.support_vectors_[:, 0], clf.support_vectors_[:, 1], s = 90, facecolors = 'none', edgecolors = 'k')\n",
    "                \n",
    "    axes[i].scatter(X[:, 0], X[:, 1], c=Y, cmap=plt.cm.Paired, edgecolors='k')\n",
    "    axes[i].set_axis_off()\n",
    "    \n",
    "plt.show()"
   ]
  }
 ],
 "metadata": {
  "colab": {
   "authorship_tag": "ABX9TyO21fldY6QR/JgvQcYiRYJQ",
   "collapsed_sections": [
    "E7QcZy7O5Yi5",
    "SpzR-xplH9kw",
    "Um2ZubAfIA_w",
    "r30tTEZGdVq5"
   ],
   "provenance": []
  },
  "kernelspec": {
   "display_name": "Python 3 (ipykernel)",
   "language": "python",
   "name": "python3"
  },
  "language_info": {
   "codemirror_mode": {
    "name": "ipython",
    "version": 3
   },
   "file_extension": ".py",
   "mimetype": "text/x-python",
   "name": "python",
   "nbconvert_exporter": "python",
   "pygments_lexer": "ipython3",
   "version": "3.10.12"
  }
 },
 "nbformat": 4,
 "nbformat_minor": 0
}
