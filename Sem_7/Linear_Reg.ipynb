{
 "cells": [
  {
   "cell_type": "markdown",
   "metadata": {
    "id": "uIBHhoMjo0cR"
   },
   "source": [
    "# **Linear Regresion**"
   ]
  },
  {
   "cell_type": "markdown",
   "metadata": {
    "id": "kM7w8uen3bmu"
   },
   "source": [
    "```datasets``` module info [here](https://scikit-learn.org/stable/modules/classes.html#module-sklearn.datasets) "
   ]
  },
  {
   "cell_type": "code",
   "execution_count": 1,
   "metadata": {
    "id": "ZciySbYiywkq"
   },
   "outputs": [],
   "source": [
    "import numpy as np\n",
    "import matplotlib.pyplot as plt # plots\n",
    "from sklearn.linear_model import LinearRegression # scikit-learn: libreria de IA para python\n",
    "from sklearn.datasets import load_diabetes"
   ]
  },
  {
   "cell_type": "code",
   "execution_count": null,
   "metadata": {
    "id": "eh2qCk9AzCfj"
   },
   "outputs": [],
   "source": [
    "# Cargar la base de datos Diabetes\n",
    "diabetes_X, diabetes_y = load_diabetes(return_X_y=True)\n",
    "print(diabetes_X.shape, diabetes_y.shape)"
   ]
  },
  {
   "cell_type": "code",
   "execution_count": null,
   "metadata": {
    "id": "MhWLxGgWzOhF"
   },
   "outputs": [],
   "source": [
    "# Use only one feature\n",
    "diabetes_X = _ \n",
    "diabetes_X = diabetes_X[:, np.newaxis] \n",
    "print(diabetes_X.shape, diabetes_y.shape)"
   ]
  },
  {
   "cell_type": "code",
   "execution_count": null,
   "metadata": {
    "id": "jvL2Xp4HyogS"
   },
   "outputs": [],
   "source": [
    "# Linear regression\n",
    "linear_regression = LinearRegression()\n",
    "\n",
    "# Train the model\n",
    "linear_regression.fit( diabetes_X , diabetes_y )"
   ]
  },
  {
   "cell_type": "code",
   "execution_count": null,
   "metadata": {
    "id": "jaCFiFdP1LKb"
   },
   "outputs": [],
   "source": [
    "# Make predictions using the testing set\n",
    "diabetes_y_pred = linear_regression.predict( _ )\n",
    "\n",
    "# Plot outputs\n",
    "_, ax = plt.subplots (figsize=( _ , _ ))\n",
    "ax.scatter( _ , _  , color = \"blue\")\n",
    "ax.plot( _ , _ , color = \"red\")"
   ]
  },
  {
   "cell_type": "markdown",
   "metadata": {},
   "source": [
    "# Other Dataset"
   ]
  },
  {
   "cell_type": "markdown",
   "metadata": {
    "id": "04iPseTDpWuB"
   },
   "source": [
    "Download the [Energy efficiency](https://www.kaggle.com/datasets/elikplim/eergy-efficiency-dataset?resource=download) dataset [here](https://drive.google.com/file/d/1UpP1DoN0WQigaD0y-A75GlD-bJ2TAjMW/view?usp=drive_link) \\\n",
    "```linear_regression``` documentation [here](https://scikit-learn.org/stable/modules/generated/sklearn.linear_model.LinearRegression.html?highlight=linear%20regression#sklearn.linear_model.LinearRegression)"
   ]
  },
  {
   "cell_type": "code",
   "execution_count": 1,
   "metadata": {
    "id": "_h_sGrUbwyPd"
   },
   "outputs": [],
   "source": [
    "import numpy as np # Numerical library\n",
    "import matplotlib.pyplot as plt # plots\n",
    "from sklearn.linear_model import LinearRegression "
   ]
  },
  {
   "cell_type": "code",
   "execution_count": null,
   "metadata": {},
   "outputs": [],
   "source": [
    "# splitting the dataset into features and targets\n",
    "X = _\n",
    "y = _ "
   ]
  },
  {
   "cell_type": "code",
   "execution_count": null,
   "metadata": {
    "id": "04FSCYWWmfK0"
   },
   "outputs": [],
   "source": [
    "# Create an instance\n",
    "linear_regression = LinearRegression()\n",
    "\n",
    "# Train the model\n",
    "linear_regression.fit( _ , _ ) # (# Samples, # Features)"
   ]
  },
  {
   "cell_type": "code",
   "execution_count": null,
   "metadata": {
    "id": "rtvZpzA-nYJ1"
   },
   "outputs": [],
   "source": [
    "# Predict x values \n",
    "predictions = linear_regression.predict( _ )\n",
    "\n",
    "# Draw real samples (blue) and predictions (red)\n",
    "_, ax = plt.subplots (figsize = ( _ , _ ))\n",
    "ax.scatter( _ , _ , color = 'blue')\n",
    "ax.scatter ( _ , _ , color = 'red')"
   ]
  }
 ],
 "metadata": {
  "colab": {
   "authorship_tag": "ABX9TyOgKYkyJY9cl2s40W0OpCHy",
   "collapsed_sections": [
    "uIBHhoMjo0cR",
    "YhMgrRC-yp6c",
    "9cNx0uVAo6s3",
    "rn77kG6sLvOO"
   ],
   "provenance": []
  },
  "kernelspec": {
   "display_name": "Python 3",
   "name": "python3"
  },
  "language_info": {
   "codemirror_mode": {
    "name": "ipython",
    "version": 3
   },
   "file_extension": ".py",
   "mimetype": "text/x-python",
   "name": "python",
   "nbconvert_exporter": "python",
   "pygments_lexer": "ipython3",
   "version": "3.10.12"
  }
 },
 "nbformat": 4,
 "nbformat_minor": 0
}
