{
  "cells": [
    {
      "cell_type": "markdown",
      "metadata": {
        "id": "DOBF0YuAWy1H"
      },
      "source": [
        "# Classification\n",
        "\n",
        "Download the fruits data [here](https://drive.google.com/file/d/1M8tiAWDZclABJN1Meq9oEHCLJTNyHdpP/view?usp=share_link)"
      ]
    },
    {
      "cell_type": "code",
      "execution_count": null,
      "metadata": {
        "id": "g_UFuHuHj3D2"
      },
      "outputs": [],
      "source": [
        "# import useful libraries\n",
        "import numpy as np\n",
        "import pandas as pd\n",
        "import matplotlib.pyplot as plt\n",
        "\n",
        "# import data\n",
        "from sklearn.datasets import make_classification\n",
        "\n",
        "# import classifiers\n",
        "from sklearn.svm import SVC\n",
        "from sklearn.linear_model import LogisticRegression\n",
        "from sklearn.neighbors import KNeighborsClassifier as kNN\n",
        "\n",
        "# Import validation\n",
        "from sklearn.model_selection import train_test_split, StratifiedKFold, KFold, cross_val_score"
      ]
    },
    {
      "cell_type": "code",
      "execution_count": null,
      "metadata": {},
      "outputs": [
        {
          "name": "stdout",
          "output_type": "stream",
          "text": [
            "(177, 2) (177,)\n"
          ]
        }
      ],
      "source": [
        "fruit_data = _ # Load the fruits dataset\n",
        "fruits_X = _  # Features. We'll pick 2\n",
        "fruits_y = _  # Labels\n",
        "\n",
        "# Convert everything to a np array\n",
        "fruits_x, fruits_y = np.asarray(fruits_X), np.asarray(fruits_y)\n",
        "\n",
        "print (fruits_X.shape, fruits_y.shape)"
      ]
    },
    {
      "cell_type": "code",
      "execution_count": null,
      "metadata": {
        "colab": {
          "base_uri": "https://localhost:8080/",
          "height": 385
        },
        "id": "ZF0TohyIdVRl",
        "outputId": "6808c6b7-6c79-4bff-a91a-cf0679b3bf3b"
      },
      "outputs": [],
      "source": [
        "# we create 100 separable points\n",
        "X, y = make_classification(n_samples = _ , n_features= _ , n_classes = _ , n_redundant=0, n_informative=2, n_clusters_per_class=1, random_state=11)\n",
        "X_train, X_test, y_train, y_test = train_test_split( _ , _ , test_size = 0.2, random_state=1)\n",
        "\n",
        "\n",
        "# Plot train / test data\n",
        "_, axes = plt.subplots (1,2, figsize=(8,4))\n",
        "axes[0].scatter( _ , _ , c = _ , edgecolors='k', cmap='Paired')\n",
        "axes[1].scatter( _ , _ , c='b', edgecolors='k')\n",
        "axes[1].scatter( _ , _ , c='r', edgecolors='k')\n",
        "\n",
        "print (X_train.shape, X_test.shape, y_train.shape, y_test.shape)"
      ]
    },
    {
      "cell_type": "code",
      "execution_count": 55,
      "metadata": {
        "colab": {
          "base_uri": "https://localhost:8080/"
        },
        "id": "CVXNnWTA4Lao",
        "outputId": "593cb5f2-0a59-45fa-bc3b-a668bfe54d4f"
      },
      "outputs": [],
      "source": [
        "import sklearn\n",
        "\n",
        "def plot_decision_boundary (clf, x, y, res=None, n_points=None, offset=0.1, ax = None, ax_names = None):\n",
        "    #\n",
        "    assert x.shape[1] == 2, ValueError('Num features (cols) must be 2. Current: {0}'.format(x.shape[1]))\n",
        "    if not n_points and not res: n_points = 50\n",
        "    \n",
        "    # Min max values for the decision bounding grid\n",
        "    h_min, h_max = x[:, 0].min()-offset, x[:, 0].max()+offset\n",
        "    v_min, v_max = x[:, 1].min()-offset, x[:, 1].max()+offset\n",
        "\n",
        "    # Create the grid\n",
        "    if n_points: \n",
        "        h_array = np.linspace( h_min , h_max , n_points)\n",
        "        v_array = np.linspace( v_min , v_max , n_points)\n",
        "    else:\n",
        "        h_array = np.arange( h_min , h_max , res)\n",
        "        v_array = np.arange( v_min , v_max , res)\n",
        "        \n",
        "    h_grid, v_grid = np.meshgrid(h_array, v_array)\n",
        "\n",
        "    # Predict\n",
        "    predictions = clf.predict(np.c_[h_grid.ravel(), v_grid.ravel()])\n",
        "    \n",
        "    # Reshape back to original dim\n",
        "    predictions = predictions.reshape( h_grid.shape )\n",
        "    \n",
        "    # Draw everything\n",
        "    if ax == None: _, ax = plt.subplots (figsize=(7,5))\n",
        "    ax.pcolormesh( h_grid , v_grid , predictions , cmap = plt.cm.Paired)\n",
        "    ax.contour( h_grid , v_grid , predictions , colors='k', alpha=0.8, linestyles='-', levels=[0,1])\n",
        "\n",
        "    # show the scatter\n",
        "    ax.scatter ( x[:, 0] , x[:, 1] , c = y , edgecolors='k', cmap=plt.cm.Paired)\n",
        "    \n",
        "    if isinstance(clf, sklearn.svm.SVC):\n",
        "        ax.scatter(clf.support_vectors_[:, 0], clf.support_vectors_[:, 1], s=80, facecolors=\"none\", edgecolors=\"k\")\n",
        "\n",
        "    ax.set_xlim(h_min, h_max)\n",
        "    ax.set_ylim(v_min, v_max)\n",
        "    \n",
        "    if ax_names != None:\n",
        "        ax.set_xlabel(ax_names[0]), ax.set_ylabel(ax_names[1])\n",
        "\n",
        "    ax.set_xticks(())\n",
        "    ax.set_yticks(())\n",
        "\n"
      ]
    },
    {
      "cell_type": "code",
      "execution_count": null,
      "metadata": {
        "colab": {
          "base_uri": "https://localhost:8080/",
          "height": 625
        },
        "id": "eJovu6tammD9",
        "outputId": "122e4a66-fa6d-44ad-bc90-01e0c49aa5ba"
      },
      "outputs": [],
      "source": [
        "models = [ _ , _ , _ , _ ]\n",
        "names = [ _ , _ , _ , _ ]\n",
        "\n",
        "_, axes = plt.subplots(1, len(models), figsize = (5 * len(models),5))\n",
        "predictions = {}\n",
        "\n",
        "# fit the models\n",
        "for name, model, ax in zip(names, models, axes) :\n",
        "    #\n",
        "    model.fit( _ , _ )\n",
        "    _ # Make predictions\n",
        "\n",
        "    # Plot everything\n",
        "    plot_decision_boundary (clf = _ , x = _ , y = _ , n_points = 100, offset = 0.1, ax = ax)\n",
        "    ax.set_title( _ )\n",
        "\n",
        "plt.show()"
      ]
    },
    {
      "cell_type": "markdown",
      "metadata": {
        "id": "HqPv5A68j27e"
      },
      "source": [
        "## Metricas de desempeño\n",
        "\n",
        "Módulo de [Metrics](https://scikit-learn.org/stable/modules/classes.html#module-sklearn.metrics) de sklearn"
      ]
    },
    {
      "cell_type": "code",
      "execution_count": 60,
      "metadata": {
        "id": "d5mLS-Gdj5QY"
      },
      "outputs": [],
      "source": [
        "from sklearn.metrics import confusion_matrix, accuracy_score, precision_score, recall_score, f1_score\n",
        "import seaborn as sns"
      ]
    },
    {
      "cell_type": "code",
      "execution_count": null,
      "metadata": {
        "colab": {
          "base_uri": "https://localhost:8080/",
          "height": 511
        },
        "id": "YihL1RQFoGh0",
        "outputId": "dbda2a25-3938-4bf1-88ac-a823401cb817"
      },
      "outputs": [],
      "source": [
        "_, axes = plt.subplots(1, len(models) , figsize = (len(models)*5,4))\n",
        "\n",
        "# Compute metrics - plot confusion matrix\n",
        "for name, ax in zip(names, axes):\n",
        "  print (\" Results for {0} \".format( name ).center(60, '#') )\n",
        "\n",
        "  accuracy = accuracy_score( y_test , predictions[name] )\n",
        "  precision = precision_score( y_test , predictions[name] , average = \"micro\")\n",
        "  recall = recall_score( y_test , predictions[name] , average = \"micro\")\n",
        "  f1 = f1_score( y_test , predictions[name] , average = \"micro\")\n",
        "  cm = confusion_matrix( y_test , predictions[name] )\n",
        "\n",
        "  ##--------------\n",
        "  print(\"-- Acc --\\t -- Prec --\\t -- Rec --\\t -- F1 --  \")\n",
        "  print(\"  {0:.3f}  \\t   {1:.3f}  \\t   {2:.3f}  \\t   {3:.3f}  \\t\\n\".format(accuracy, precision, recall, f1))\n",
        "  \n",
        "  sns.heatmap(cm, cmap = \"hot\", annot = True, ax = ax)\n",
        "  ax.set_title( name )"
      ]
    },
    {
      "cell_type": "markdown",
      "metadata": {
        "id": "oxRcmkCf7a7x"
      },
      "source": [
        "## Cross validation"
      ]
    },
    {
      "cell_type": "code",
      "execution_count": null,
      "metadata": {
        "id": "teG6zCLC7Y7T"
      },
      "outputs": [],
      "source": [
        "models = [ _ , _ , _ , _ ]\n",
        "names = [ _ , _ , _ , _ ]\n",
        "\n",
        "predictions = {}\n",
        "\n",
        "cv = StratifiedKFold(n_splits = _ , shuffle = True, random_state = 1)\n",
        "\n",
        "# fit the models\n",
        "for name, model in zip(names, models) :\n",
        "    #\n",
        "    cross_val_score_ = cross_val_score( _ , _ , _ , cv=cv)\n",
        "    print (name, ':\\t', cross_val_score_, '\\tmean: ', np.mean(cross_val_score_))\n",
        "\n"
      ]
    },
    {
      "cell_type": "code",
      "execution_count": null,
      "metadata": {},
      "outputs": [],
      "source": [
        "models = [ _ , _ , _ , _ ]\n",
        "names = [ _ , _ , _ , _ ]\n",
        "\n",
        "predictions = {}\n",
        "\n",
        "cv = StratifiedKFold(n_splits = _, shuffle = True, random_state = 1)\n",
        "\n",
        "# fit the models\n",
        "for name, model in zip(names, models) :\n",
        "    #\n",
        "    for i, (splits_train, splits_val) in enumerate(cv.split(X_train, y_train)):\n",
        "      X_train_cv = _ \n",
        "      y_train_cv = _ \n",
        "      X_val_cv  = _ \n",
        "      y_val_cv  = _\n",
        "\n",
        "      model.fit( _ , _ )\n",
        "\n",
        "      predictions[name + '_{0}'.format(i)] = model.predict( _ )"
      ]
    },
    {
      "cell_type": "code",
      "execution_count": null,
      "metadata": {
        "colab": {
          "base_uri": "https://localhost:8080/"
        },
        "id": "NK2ycaqY_s74",
        "outputId": "b7792e07-f183-40f9-9564-4b7d1896fec9"
      },
      "outputs": [],
      "source": [
        "predictions.keys()"
      ]
    },
    {
      "cell_type": "markdown",
      "metadata": {
        "id": "E0q__urRvm2X"
      },
      "source": [
        "## En datos reales"
      ]
    },
    {
      "cell_type": "code",
      "execution_count": null,
      "metadata": {
        "id": "WTCRIUrFsObC"
      },
      "outputs": [],
      "source": [
        "# import useful libraries\n",
        "import numpy as np\n",
        "import matplotlib.pyplot as plt\n",
        "\n",
        "# import data\n",
        "from sklearn.datasets import load_digits\n",
        "\n",
        "# import classifiers\n",
        "from sklearn.svm import SVC\n",
        "from sklearn.linear_model import LogisticRegression\n",
        "from sklearn.neighbors import KNeighborsClassifier as kNN"
      ]
    },
    {
      "cell_type": "code",
      "execution_count": null,
      "metadata": {
        "colab": {
          "base_uri": "https://localhost:8080/",
          "height": 283
        },
        "id": "WoCeqc5YklIQ",
        "outputId": "7b3ab9f3-f333-4d14-ad65-ac2164ef31f7"
      },
      "outputs": [
        {
          "name": "stdout",
          "output_type": "stream",
          "text": [
            "(1797, 64)\n"
          ]
        },
        {
          "data": {
            "image/png": "[encoded data removed]",
            "text/plain": [
              "<Figure size 432x288 with 1 Axes>"
            ]
          },
          "metadata": {
            "needs_background": "light"
          },
          "output_type": "display_data"
        }
      ],
      "source": [
        "digits = load_digits()\n",
        "print(digits.data.shape)\n",
        "\n",
        "plt.imshow(digits.images[0].reshape(8,8), cmap=\"gray\")"
      ]
    },
    {
      "cell_type": "markdown",
      "metadata": {
        "id": "4TaNEAvFRuHS"
      },
      "source": [
        "Evalúe los distintos algoritmos entrenando con esta base de datos."
      ]
    },
    {
      "cell_type": "markdown",
      "metadata": {
        "id": "d47t41SB5g8u"
      },
      "source": [
        "# Regression"
      ]
    },
    {
      "cell_type": "code",
      "execution_count": 77,
      "metadata": {
        "id": "c7vp9XEQ5gYw"
      },
      "outputs": [],
      "source": [
        "# import useful libraries\n",
        "import numpy as np\n",
        "import pandas as pd\n",
        "import matplotlib.pyplot as plt\n",
        "\n",
        "# import data\n",
        "from sklearn.datasets import make_regression\n",
        "\n",
        "# import classifiers\n",
        "from sklearn.linear_model import LinearRegression\n",
        "from sklearn.svm import SVR\n",
        "\n",
        "# Import validation\n",
        "from sklearn.model_selection import train_test_split, StratifiedKFold, cross_val_score"
      ]
    },
    {
      "cell_type": "code",
      "execution_count": null,
      "metadata": {
        "colab": {
          "base_uri": "https://localhost:8080/",
          "height": 385
        },
        "id": "_7SjksWt5x6-",
        "outputId": "19d8df3b-9f0c-4689-c445-d98fea90998e"
      },
      "outputs": [],
      "source": [
        "X, y = make_regression(n_samples = _ , n_features = 1 , noise = 20 , random_state = 1)\n",
        "\n",
        "X_train, X_test, y_train, y_test = train_test_split( _ , _ , test_size = 0.2, random_state = 1)\n",
        "\n",
        "np.random.seed(0)\n",
        "# y_test = y_test + np.random.normal(len(y_test)) * 0.1\n",
        "\n",
        "# Plot train / test data\n",
        "_, axes = plt.subplots(1, 2, figsize=(8, 4))\n",
        "axes[0].scatter(X, y, c='b', edgecolors='k')\n",
        "axes[1].scatter( _ , _ , c = 'b', edgecolors='k')\n",
        "axes[1].scatter( _ , _ , c = 'r', edgecolors='k')"
      ]
    },
    {
      "cell_type": "code",
      "execution_count": null,
      "metadata": {
        "colab": {
          "base_uri": "https://localhost:8080/",
          "height": 439
        },
        "id": "f1FGbRna6dUW",
        "outputId": "fe730ba7-7b9b-4906-88a8-5eb528ff23fb"
      },
      "outputs": [],
      "source": [
        "# Train models\n",
        "models = [ _ , _ , _ ]\n",
        "names = [ _ , _ , _ ]\n",
        "\n",
        "\n",
        "_, axes = plt.subplots(1, len(models), figsize=(5*len(models), 5))\n",
        "predictions = {}\n",
        "\n",
        "for name, model, ax in zip(names, models, axes):\n",
        "  #\n",
        "  model.fit( _ , _ )\n",
        "  _ # make predictions\n",
        "\n",
        "  ax.scatter ( _ , _ , c = 'b', edgecolors='k')\n",
        "  ax.scatter ( _ , _ , c = 'g', edgecolors='k')\n"
      ]
    },
    {
      "cell_type": "markdown",
      "metadata": {
        "id": "N3fkiNEZ-JJZ"
      },
      "source": [
        "## Metricas de desempeño\n",
        "\n",
        "Módulo de [Metrics](https://scikit-learn.org/stable/modules/classes.html#module-sklearn.metrics) de sklearn"
      ]
    },
    {
      "cell_type": "code",
      "execution_count": 87,
      "metadata": {
        "id": "0pVjLJT2-JJa"
      },
      "outputs": [],
      "source": [
        "from sklearn.metrics import mean_absolute_error, mean_squared_error"
      ]
    },
    {
      "cell_type": "code",
      "execution_count": null,
      "metadata": {
        "colab": {
          "base_uri": "https://localhost:8080/"
        },
        "id": "Xi16zd7M-fIR",
        "outputId": "253b607f-fc24-4246-d785-ed9b4b6c15bc"
      },
      "outputs": [],
      "source": [
        "# Compute MAE and MSE\n",
        "\n",
        "for name in names:\n",
        "  print ('Results for {0} '.format(name).center(50, '-'))\n",
        "  mse_ = mean_squared_error( _ , _ )\n",
        "  mae_ = mean_absolute_error( _ , _ )\n",
        "  print ('MSE: {0}'.format(mse_))\n",
        "  print ('MAE: {0} \\n'.format(mae_))"
      ]
    },
    {
      "cell_type": "markdown",
      "metadata": {},
      "source": [
        "## Cross validation"
      ]
    },
    {
      "cell_type": "code",
      "execution_count": null,
      "metadata": {},
      "outputs": [],
      "source": [
        "models = [ _ , _ , _ ]\n",
        "names = [ _ , _ , _ ]\n",
        "\n",
        "predictions = {}\n",
        "\n",
        "cv = KFold(n_splits = _ , shuffle = True, random_state=1)\n",
        "\n",
        "# fit the models\n",
        "for name, model in zip(names, models) :\n",
        "    #\n",
        "    cross_val_score_ = cross_val_score( _ , _ , _ , cv=cv, scoring=\"neg_mean_absolute_error\")\n",
        "    print (name, ':\\t', cross_val_score_, '\\tmean: ', np.mean(cross_val_score_))\n",
        "\n"
      ]
    },
    {
      "cell_type": "code",
      "execution_count": null,
      "metadata": {},
      "outputs": [],
      "source": [
        "models = [ _ , _ , _ ]\n",
        "names = [ _ , _ , _ ]\n",
        "\n",
        "predictions = {}\n",
        "\n",
        "cv = KFold(n_splits = _ , shuffle = True, random_state=1)\n",
        "\n",
        "# fit the models\n",
        "for name, model in zip(names, models) :\n",
        "    #\n",
        "    for i, (splits_train, splits_val) in enumerate(cv.split(X_train, y_train)):\n",
        "      X_train_cv = _ \n",
        "      y_train_cv = _ \n",
        "      X_val_cv  = _ \n",
        "      y_val_cv  = _ \n",
        "\n",
        "      model.fit( _ , _ )\n",
        "\n",
        "      predictions[name + '_{0}'.format(i)] = model.predict( _ )"
      ]
    },
    {
      "cell_type": "code",
      "execution_count": null,
      "metadata": {},
      "outputs": [],
      "source": [
        "predictions.keys()"
      ]
    }
  ],
  "metadata": {
    "colab": {
      "provenance": []
    },
    "kernelspec": {
      "display_name": ".venv",
      "language": "python",
      "name": "python3"
    },
    "language_info": {
      "codemirror_mode": {
        "name": "ipython",
        "version": 3
      },
      "file_extension": ".py",
      "mimetype": "text/x-python",
      "name": "python",
      "nbconvert_exporter": "python",
      "pygments_lexer": "ipython3",
      "version": "3.10.12"
    }
  },
  "nbformat": 4,
  "nbformat_minor": 0
}
