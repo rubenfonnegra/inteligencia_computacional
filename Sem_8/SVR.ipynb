{
 "cells": [
  {
   "cell_type": "markdown",
   "metadata": {
    "id": "uIBHhoMjo0cR"
   },
   "source": [
    "# **Support Vector Regresion (SVR)**"
   ]
  },
  {
   "cell_type": "markdown",
   "metadata": {
    "id": "04iPseTDpWuB"
   },
   "source": [
    "```SVR``` module documentation [here](https://scikit-learn.org/stable/modules/generated/sklearn.svm.SVR.html)"
   ]
  },
  {
   "cell_type": "markdown",
   "metadata": {},
   "source": [
    "## In Synthetic data"
   ]
  },
  {
   "cell_type": "code",
   "execution_count": null,
   "metadata": {},
   "outputs": [],
   "source": [
    "import numpy as np # Librería mateamtica\n",
    "import matplotlib.pyplot as plt # plots\n",
    "\n",
    "from sklearn.svm import SVR\n",
    "from sklearn.datasets import make_regression"
   ]
  },
  {
   "cell_type": "code",
   "execution_count": null,
   "metadata": {},
   "outputs": [],
   "source": [
    "X, y = make_regression(n_samples = _, n_features = 1, noise = 10, random_state = 1)\n",
    "\n",
    "_, ax = plt.subplots (figsize=(6,5))\n",
    "ax.scatter( _ , _ , c = 'b')"
   ]
  },
  {
   "cell_type": "code",
   "execution_count": null,
   "metadata": {},
   "outputs": [],
   "source": [
    "svr = SVR(kernel = _ )\n",
    "\n",
    "svr.fit( _ , _ )"
   ]
  },
  {
   "cell_type": "code",
   "execution_count": null,
   "metadata": {},
   "outputs": [],
   "source": [
    "# Predecir la nueva muestra. Imprimir la prediccion\n",
    "prediction = _ \n",
    "print (prediction)"
   ]
  },
  {
   "cell_type": "code",
   "execution_count": null,
   "metadata": {},
   "outputs": [],
   "source": [
    "# Predict x values \n",
    "predictions = _\n",
    "\n",
    "# Draw real samples (blue) and predictions (red)\n",
    "_, ax = plt.subplots (figsize = ( _ , _ ))\n",
    "ax.scatter( _ , _ , color = 'blue')\n",
    "ax.plot ( _ , _ , color = 'red')"
   ]
  },
  {
   "cell_type": "markdown",
   "metadata": {
    "id": "YhMgrRC-yp6c"
   },
   "source": [
    "## In real data"
   ]
  },
  {
   "cell_type": "markdown",
   "metadata": {},
   "source": [
    "Download the [Energy efficiency](https://www.kaggle.com/datasets/elikplim/eergy-efficiency-dataset?resource=download) dataset [here](https://drive.google.com/file/d/1UpP1DoN0WQigaD0y-A75GlD-bJ2TAjMW/view?usp=drive_link) \\\n",
    "```linear_regression``` documentation [here](https://scikit-learn.org/stable/modules/generated/sklearn.linear_model.LinearRegression.html?highlight=linear%20regression#sklearn.linear_model.LinearRegression)"
   ]
  },
  {
   "cell_type": "code",
   "execution_count": null,
   "metadata": {},
   "outputs": [],
   "source": [
    "import numpy as np\n",
    "import pandas as pd\n",
    "import matplotlib.pyplot as plt\n",
    "\n",
    "from sklearn.model_selection import train_test_split\n",
    "from sklearn.preprocessing import StandardScaler\n",
    "from sklearn.svm import SVR\n",
    "from sklearn.metrics import mean_squared_error, mean_absolute_error"
   ]
  },
  {
   "cell_type": "code",
   "execution_count": null,
   "metadata": {},
   "outputs": [],
   "source": [
    "# Cargar el archivo CSV\n",
    "data = pd.read_csv( _ )\n",
    "\n",
    "# Mostrar las primeras filas del DataFrame\n",
    "data.head()\n",
    "\n",
    "# splitting the dataset into features and targets\n",
    "y = _\n",
    "X = _\n",
    "\n",
    "# check features\n",
    "features = list(X.columns)"
   ]
  },
  {
   "cell_type": "code",
   "execution_count": null,
   "metadata": {},
   "outputs": [],
   "source": [
    "# split the dataset into training and testing sets\n",
    "X_train, X_test, y_train, y_test = train_test_split( _ , _ , test_size = 0.20, random_state = 1)\n",
    "\n",
    "# standardize the data\n",
    "scaler = StandardScaler()\n",
    "\n",
    "X_train = scaler.fit_transform(X_train)\n",
    "X_test = scaler.transform(X_test)"
   ]
  },
  {
   "cell_type": "code",
   "execution_count": null,
   "metadata": {},
   "outputs": [],
   "source": [
    "# train the model and make predictions\n",
    "svr_ = SVR()\n",
    "y_pred = _"
   ]
  },
  {
   "cell_type": "code",
   "execution_count": null,
   "metadata": {},
   "outputs": [],
   "source": [
    "# Plot the results \n",
    "\n",
    "_, axes = plt.subplots (1,2, figsize=(8,4))\n",
    "axes[0].scatter( _ , _ )\n",
    "axes[0].scatter( _ , _ )"
   ]
  },
  {
   "cell_type": "code",
   "execution_count": null,
   "metadata": {},
   "outputs": [],
   "source": [
    "\n",
    "# calculate the MSE\n",
    "print('MSE of predicting load: \\n', mean_squared_error( _ , _ ))\n",
    "print('')\n",
    "\n",
    "# calculate the MAE\n",
    "print('MAE of predicting load: \\n', mean_absolute_error( _ , _ ))"
   ]
  }
 ],
 "metadata": {
  "colab": {
   "authorship_tag": "ABX9TyOgKYkyJY9cl2s40W0OpCHy",
   "collapsed_sections": [
    "uIBHhoMjo0cR",
    "YhMgrRC-yp6c",
    "9cNx0uVAo6s3",
    "rn77kG6sLvOO"
   ],
   "provenance": []
  },
  "kernelspec": {
   "display_name": "Python 3",
   "name": "python3"
  },
  "language_info": {
   "codemirror_mode": {
    "name": "ipython",
    "version": 3
   },
   "file_extension": ".py",
   "mimetype": "text/x-python",
   "name": "python",
   "nbconvert_exporter": "python",
   "pygments_lexer": "ipython3",
   "version": "3.10.12"
  }
 },
 "nbformat": 4,
 "nbformat_minor": 0
}
