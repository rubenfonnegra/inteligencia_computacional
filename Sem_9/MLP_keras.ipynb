{
 "cells": [
  {
   "cell_type": "markdown",
   "metadata": {
    "id": "1bG0dT0bMaEr"
   },
   "source": [
    "# Multilayer perceptron"
   ]
  },
  {
   "cell_type": "markdown",
   "metadata": {
    "id": "uEizUvs_Mryw"
   },
   "source": [
    "Tensorflow framework documentation [here](https://www.tensorflow.org/) \\\n",
    "Keras framework documentation [here](https://keras.io/)"
   ]
  },
  {
   "cell_type": "code",
   "execution_count": null,
   "metadata": {
    "id": "mOmbMjRIBZ4Y"
   },
   "outputs": [],
   "source": [
    "import os\n",
    "\n",
    "# This guide can only be run with the torch backend.\n",
    "os.environ[\"KERAS_BACKEND\"] = \"torch\"\n",
    "\n",
    "import numpy as np\n",
    "import pandas as pd\n",
    "import matplotlib.pyplot as plt\n",
    "import seaborn as sns\n",
    "\n",
    "import torch\n",
    "\n",
    "from keras.models import Sequential\n",
    "from keras.layers import Dense\n",
    "from keras.utils import to_categorical"
   ]
  },
  {
   "cell_type": "markdown",
   "metadata": {
    "id": "PQAKpRyGM5Vh"
   },
   "source": [
    "## Load data - [MNIST](http://yann.lecun.com/exdb/mnist/)"
   ]
  },
  {
   "cell_type": "code",
   "execution_count": null,
   "metadata": {
    "id": "5GuRujLbydhy"
   },
   "outputs": [],
   "source": [
    "# Load MNIST data\n",
    "data = pd.read_csv( _ , header=None)\n",
    "\n",
    "X = _\n",
    "y = _\n",
    "\n",
    "print (X.shape, y.shape)"
   ]
  },
  {
   "cell_type": "code",
   "execution_count": null,
   "metadata": {
    "id": "q7TlM7c2HTC6"
   },
   "outputs": [],
   "source": [
    "# create train / test splits\n",
    "X_train, X_test, y_train, y_test = _\n",
    "\n",
    "# Reshape to bidimensional (image) size\n",
    "X_train, X_test = _ , _ \n",
    "\n",
    "print (X_train.shape, X_test.shape, y_train.shape, y_test.shape)"
   ]
  },
  {
   "cell_type": "code",
   "execution_count": null,
   "metadata": {
    "id": "3V4KSR11Epo_"
   },
   "outputs": [],
   "source": [
    "# Visualize grid of samples \n",
    "grid_size = _ \n",
    "\n",
    "_, axes = plt.subplots ( _ , _ , figsize=(12,12))\n",
    "axes = _ \n",
    "\n",
    "for i, ax in enumerate(axes): \n",
    "  ax.imshow( _ , cmap='gray')\n",
    "  ax.set_axis_off()\n"
   ]
  },
  {
   "cell_type": "code",
   "execution_count": null,
   "metadata": {
    "id": "BIin-x7KeuRp"
   },
   "outputs": [],
   "source": [
    "# Reshape the data - MLPs do not understand such '2D' stuff\n",
    "# Reshape to 1D is similat to \"flatten\" an image\n",
    "\n",
    "# Configuration options\n",
    "feature_vector_length = 784\n",
    "num_classes = 10\n",
    "\n",
    "X_train = _ \n",
    "X_test = _ \n",
    "\n",
    "# Convert into 0 - 1 values\n",
    "X_train = _ \n",
    "X_test = _ "
   ]
  },
  {
   "cell_type": "code",
   "execution_count": null,
   "metadata": {
    "id": "4qCT-uXQCf-R"
   },
   "outputs": [],
   "source": [
    "# Convert target classes to categorical ones - one hot encoding\n",
    "y_train = to_categorical(y_train, num_classes)\n",
    "y_test = to_categorical(y_test, num_classes)"
   ]
  },
  {
   "cell_type": "markdown",
   "metadata": {
    "id": "KRJ9wAEPP-nD"
   },
   "source": [
    "## Create a graph model"
   ]
  },
  {
   "cell_type": "code",
   "execution_count": null,
   "metadata": {
    "id": "KaU_m7wzCh4H"
   },
   "outputs": [],
   "source": [
    "# Create the model\n",
    "model = Sequential()\n",
    "model.add(Dense( _ , input_shape = _ , activation = _ ))\n",
    "model.add(Dense( _ , activation = _ ))\n",
    "model.add(Dense( _ , activation = _ ))"
   ]
  },
  {
   "cell_type": "markdown",
   "metadata": {
    "id": "UFACnhquRzC9"
   },
   "source": [
    "## Define loss function and optimizer"
   ]
  },
  {
   "cell_type": "code",
   "execution_count": null,
   "metadata": {
    "id": "tcAYAouvCr-D"
   },
   "outputs": [],
   "source": [
    "# Configure the model and start training\n",
    "model.compile(loss = _ , optimizer = _ , metrics = _ )\n"
   ]
  },
  {
   "cell_type": "markdown",
   "metadata": {
    "id": "Oo5RcYgAR3jF"
   },
   "source": [
    "## Train model"
   ]
  },
  {
   "cell_type": "code",
   "execution_count": null,
   "metadata": {
    "id": "o735TPGsUXzd"
   },
   "outputs": [],
   "source": [
    "history = model.fit( _ , _ , \\\n",
    "                    epochs = _ , batch_size = , \\\n",
    "                    verbose = , validation_split = 0.2)"
   ]
  },
  {
   "cell_type": "markdown",
   "metadata": {
    "id": "p8fBn5saR7BP"
   },
   "source": [
    "## Plot results"
   ]
  },
  {
   "cell_type": "code",
   "execution_count": null,
   "metadata": {
    "id": "gTAUMxmfdHEx"
   },
   "outputs": [],
   "source": [
    "# Plot progress (loss function)"
   ]
  },
  {
   "cell_type": "code",
   "execution_count": null,
   "metadata": {
    "id": "NOYhUJmLB-aL"
   },
   "outputs": [],
   "source": []
  },
  {
   "cell_type": "markdown",
   "metadata": {
    "id": "jyBi-3lER-yv"
   },
   "source": [
    "## Compute metrics over ```X_test``` images"
   ]
  },
  {
   "cell_type": "code",
   "execution_count": null,
   "metadata": {
    "id": "GghtNGC3CtjS"
   },
   "outputs": [],
   "source": [
    "# Test the model after training\n",
    "test_results = model.predict( _ )\n"
   ]
  }
 ],
 "metadata": {
  "colab": {
   "collapsed_sections": [
    "1bG0dT0bMaEr",
    "PQAKpRyGM5Vh",
    "KRJ9wAEPP-nD",
    "UFACnhquRzC9",
    "Oo5RcYgAR3jF",
    "p8fBn5saR7BP",
    "jyBi-3lER-yv"
   ],
   "provenance": []
  },
  "kernelspec": {
   "display_name": "Python 3",
   "name": "python3"
  }
 },
 "nbformat": 4,
 "nbformat_minor": 0
}
